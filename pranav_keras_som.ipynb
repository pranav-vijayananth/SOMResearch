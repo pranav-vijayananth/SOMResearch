{
  "nbformat": 4,
  "nbformat_minor": 0,
  "metadata": {
    "colab": {
      "name": "pranav_keras_som.ipynb",
      "private_outputs": true,
      "provenance": [],
      "collapsed_sections": [],
      "mount_file_id": "15zIIoP5kn0Fgm9U8oXOk-r7xdFewq-fq",
      "authorship_tag": "ABX9TyO6DjXp5dnBpL3BdisGfpPM",
      "include_colab_link": true
    },
    "kernelspec": {
      "name": "python3",
      "display_name": "Python 3"
    },
    "language_info": {
      "name": "python"
    }
  },
  "cells": [
    {
      "cell_type": "markdown",
      "metadata": {
        "id": "view-in-github",
        "colab_type": "text"
      },
      "source": [
        "<a href=\"https://colab.research.google.com/github/pranav-vijayananth/SOMResearch/blob/main/pranav_keras_som.ipynb\" target=\"_parent\"><img src=\"https://colab.research.google.com/assets/colab-badge.svg\" alt=\"Open In Colab\"/></a>"
      ]
    },
    {
      "cell_type": "code",
      "metadata": {
        "id": "BlMJrFV8f3OI"
      },
      "source": [
        "#KERAS-SOM MAIN MODULE\n",
        "!wget https://raw.githubusercontent.com/FlorentF9/DESOM/master/kerasom.py\n",
        "\n",
        "#SOM-LAYER DEPENDENCY FOR MAIN MODULE\n",
        "!wget https://raw.githubusercontent.com/FlorentF9/DESOM/master/SOM.py\n",
        "\n",
        "#METRICS \n",
        "!wget https://raw.githubusercontent.com/FlorentF9/DESOM/master/metrics.py\n",
        "\n",
        "#DATASETS\n",
        "!wget https://raw.githubusercontent.com/FlorentF9/DESOM/master/datasets.py"
      ],
      "execution_count": null,
      "outputs": []
    },
    {
      "cell_type": "code",
      "metadata": {
        "id": "-OdTSPijij8_"
      },
      "source": [
        "#IMPORTS\n",
        "\n",
        "from kerasom import Kerasom\n",
        "import numpy as np\n",
        "import math \n",
        "import subprocess\n",
        "from time import time\n",
        "from collections import Counter"
      ],
      "execution_count": null,
      "outputs": []
    },
    {
      "cell_type": "code",
      "metadata": {
        "id": "zxdQAz3NlpsQ"
      },
      "source": [
        "#GETTING FILE\n",
        "\n",
        "# filename = \"breast-tissue.csv\"\n",
        "datafile = open(\"/content/drive/MyDrive/Datasets/commonfiles/breast-cancer.csv\")"
      ],
      "execution_count": null,
      "outputs": []
    },
    {
      "cell_type": "code",
      "metadata": {
        "id": "sjKI5NksmFGZ"
      },
      "source": [
        "#DATA PREP \n",
        "\n",
        "data = []\n",
        "groundtruth = []\n",
        "dataread = datafile.readline()\n",
        "dataread = datafile.readline()\n",
        "\n",
        "while dataread != \"\": \n",
        "  a = dataread.split(\",\")\n",
        "  l2 = []\n",
        "  for j in range(0, len(a), 1):\n",
        "    if j == len(a)-1:\n",
        "      groundtruth.append(a[j].strip())\n",
        "    else:\n",
        "      try: \n",
        "        l2.append(float(a[j]))\n",
        "      except:\n",
        "        l2.append(0)\n",
        "  data.append(l2)\n",
        "  dataread = datafile.readline()\n",
        "\n",
        "rows = len(data)\n",
        "cols = len(data[0])\n",
        "num_inputs = rows * cols\n",
        "\n",
        "datafile.close()"
      ],
      "execution_count": null,
      "outputs": []
    },
    {
      "cell_type": "code",
      "metadata": {
        "id": "LpdLeiFymJUa"
      },
      "source": [
        "#UNDERSTANDING DATA \n",
        "print(f\"This is the data: {data}\")\n",
        "print(f\"Number of rows: {rows}\")\n",
        "print(f\"Numer of columns: {cols}\")\n",
        "print(f\"Total number of data inputs: {num_inputs}\")\n",
        "\n",
        "#CLUSTERS \n",
        "uniqueValues = Counter(groundtruth).keys()\n",
        "clusters = len(uniqueValues)\n",
        "print(f\"The clusters in dataset: {clusters}\")"
      ],
      "execution_count": null,
      "outputs": []
    },
    {
      "cell_type": "code",
      "metadata": {
        "id": "-ux9gs3fmvGM"
      },
      "source": [
        "#MAKING TXT FILE FOR LABELS\n",
        "\n",
        "# bash_command = \"touch /content/drive/MyDrive/Datasets/Research/Keras-SOM/\"+filename+\".txt\"\n",
        "# subprocess.run(bash_command, shell=True)\n",
        "\n",
        "# fw = open(\"/content/drive/MyDrive/Datasets/Research/Keras-SOM/\"+filename+\".txt\", \"a\")\n",
        "\n",
        "#DATA \n",
        "data = np.asarray(data)\n",
        "\n",
        "#NEURONS \n",
        "mapsize = (clusters, 1)\n",
        "\n",
        "\"\"\"\n",
        "Change the map_size to equal to [clusters, 1] for ARI labels later\n",
        "\"\"\"\n",
        "\n",
        "#OPTIMIZER ß\n",
        "optimizer = 'adam'\n",
        "\n",
        "#BATCH SIZE\n",
        "batch_size = 32\n",
        "\n",
        "#ITERATIONS \n",
        "iterations = int(rows/batch_size)\n",
        "\n",
        "for i in range(30):\n",
        "  #MODEL INIT + COMPLIE \n",
        "  kerasom = Kerasom(input_dim=cols, map_size=(clusters, 1))\n",
        "  kerasom.initialize()\n",
        "  kerasom.compile(optimizer=optimizer)\n",
        "\n",
        "  #MODEL TRAINING\n",
        "  # start = time()\n",
        "  kerasom.fit(data, iterations=iterations, som_iterations=iterations, save_epochs=20, batch_size=batch_size, save_dir=\"/content/drive/MyDrive/Datasets/Research/Keras-SOM/Logs\")\n",
        "\n",
        "  #GETTING PREDICTIONS\n",
        "  predictions = kerasom.predict(data)\n",
        "  print(predictions)\n",
        "\n",
        "  #ADDING LABELS INTO TXT FILE\n",
        "#   converted_list = [str(element) for element in predictions]\n",
        "#   joined_string = \",\".join(converted_list)\n",
        "#   print(joined_string)\n",
        "#   fw.write(joined_string)\n",
        "#   fw.write('\\n')\n",
        "#   print(i)\n",
        "\n",
        "# fw.close()"
      ],
      "execution_count": null,
      "outputs": []
    },
    {
      "cell_type": "code",
      "metadata": {
        "id": "6M74zCFSHeje"
      },
      "source": [
        ""
      ],
      "execution_count": null,
      "outputs": []
    },
    {
      "cell_type": "code",
      "metadata": {
        "id": "gGhN0Z2G15-C"
      },
      "source": [
        "#OPENING FILE FOR ARI \n",
        "\n",
        "fo = open(\"/content/drive/MyDrive/Datasets/Research/Keras-SOM/\"+filename+\".txt\", \"r\")\n",
        "fw = open(\"/content/drive/MyDrive/Datasets/Research/Keras-SOM/breast-tissue_output.csv\", 'a')"
      ],
      "execution_count": null,
      "outputs": []
    },
    {
      "cell_type": "code",
      "metadata": {
        "id": "_3hJ9e1Y15Zc"
      },
      "source": [
        "#ADDING ARI TO FILES\n",
        "\n",
        "count = 1 \n",
        "fw.write(str(filename))\n",
        "for line in fo: \n",
        "  line = line.strip()\n",
        "  line = line.strip(\"\\n\")\n",
        "  curlabel = line.split(\",\")\n",
        "  if count > 1:\n",
        "    ARI = adjusted_rand_score(prevlabel, curlabel)\n",
        "    print(ARI)\n",
        "    fw.write(','+str(ARI))\n",
        "  \n",
        "  prevlabel = curlabel\n",
        "  count = 2\n",
        "\n",
        "fw.write(\"\\n\")\n",
        "fw.close()"
      ],
      "execution_count": null,
      "outputs": []
    }
  ]
}