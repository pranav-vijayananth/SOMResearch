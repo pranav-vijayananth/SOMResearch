{
  "nbformat": 4,
  "nbformat_minor": 0,
  "metadata": {
    "colab": {
      "name": "pranav_ sklern_ARI.ipynb",
      "private_outputs": true,
      "provenance": [],
      "collapsed_sections": [],
      "mount_file_id": "1iagNBMI46NI9MtkEyoG-iCUi-GYvhhYI",
      "authorship_tag": "ABX9TyOBMwKRNseeEzHS0YUpreim",
      "include_colab_link": true
    },
    "kernelspec": {
      "name": "python3",
      "display_name": "Python 3"
    }
  },
  "cells": [
    {
      "cell_type": "markdown",
      "metadata": {
        "id": "view-in-github",
        "colab_type": "text"
      },
      "source": [
        "<a href=\"https://colab.research.google.com/github/pranav-vijayananth/SOMResearch/blob/main/pranav__sklern_ARI.ipynb\" target=\"_parent\"><img src=\"https://colab.research.google.com/assets/colab-badge.svg\" alt=\"Open In Colab\"/></a>"
      ]
    },
    {
      "cell_type": "markdown",
      "metadata": {
        "id": "8NZCUp4N4eqh"
      },
      "source": [
        "Downloading libraries"
      ]
    },
    {
      "cell_type": "code",
      "metadata": {
        "id": "Jb51RlXW4eUQ"
      },
      "source": [
        "!pip install neupy"
      ],
      "execution_count": null,
      "outputs": []
    },
    {
      "cell_type": "markdown",
      "metadata": {
        "id": "a6krkmtp3Gj-"
      },
      "source": [
        "Importing libraries + modules"
      ]
    },
    {
      "cell_type": "code",
      "metadata": {
        "id": "kN66wN4t2-dc"
      },
      "source": [
        "from collections import Counter\n",
        "from neupy import algorithms\n",
        "from sklearn.metrics.cluster import adjusted_rand_score\n",
        "import numpy as np\n",
        "import subprocess"
      ],
      "execution_count": null,
      "outputs": []
    },
    {
      "cell_type": "code",
      "metadata": {
        "id": "7gTCuReG5AdB"
      },
      "source": [
        "def get_labels_from_prediction(prediction):\n",
        "  labels = []\n",
        "  for res in prediction: \n",
        "    for index in range(0, len(res), 1):\n",
        "      if res[index] == 1:\n",
        "        labels.append(index)\n",
        "        break \n",
        "  \n",
        "  return labels "
      ],
      "execution_count": null,
      "outputs": []
    },
    {
      "cell_type": "markdown",
      "metadata": {
        "id": "PaemFqYl5e4N"
      },
      "source": [
        "File Testing"
      ]
    },
    {
      "cell_type": "code",
      "metadata": {
        "id": "1ip9bPku5hUJ"
      },
      "source": [
        "filename = \"KungChi3.csv\"\n",
        "datafile = open(\"/content/drive/MyDrive/Datasets/Research/\"+filename)"
      ],
      "execution_count": null,
      "outputs": []
    },
    {
      "cell_type": "code",
      "metadata": {
        "id": "QpdlFvhe583X"
      },
      "source": [
        "data = []\n",
        "groundtruth = []\n",
        "dataread = datafile.readline()\n",
        "dataread = datafile.readline()\n",
        "\n",
        "while dataread != \"\": \n",
        "  a = dataread.split(\",\")\n",
        "  l2 = []\n",
        "  for j in range(0, len(a), 1):\n",
        "    if j == len(a)-1:\n",
        "      groundtruth.append(a[j].strip())\n",
        "    else:\n",
        "      try: \n",
        "        l2.append(float(a[j]))\n",
        "      except:\n",
        "        l2.append(0)\n",
        "  data.append(l2)\n",
        "  dataread = datafile.readline()\n",
        "\n",
        "rows = len(data)\n",
        "cols = len(data[0])\n",
        "datafile.close()\n",
        "\n",
        "data = np.array(data)"
      ],
      "execution_count": null,
      "outputs": []
    },
    {
      "cell_type": "code",
      "metadata": {
        "id": "Ab__AcBm-vnC"
      },
      "source": [
        "print(f\"This is the data: {data}\")\n",
        "print(f\"Number of cols: {cols}\")\n",
        "print(f\"These are the cols {data[0]}\")\n",
        "print(f\"This is the grountruth: {groundtruth}\")\n",
        "print(f\"This is the number of rows {rows}\")\n",
        "uniqueValues = Counter(groundtruth).keys()\n",
        "clusters = len(uniqueValues)\n",
        "print(f\"Various clusters in data: {clusters}\")"
      ],
      "execution_count": null,
      "outputs": []
    },
    {
      "cell_type": "code",
      "metadata": {
        "id": "_US1Hm1kLWag"
      },
      "source": [
        "# bash_command = \"touch /content/drive/MyDrive/Datasets/Research/Output/\"+filename+\".txt\"\n",
        "# subprocess.run(bash_command, shell=True)\n",
        "\n",
        "# fw = open(\"/content/drive/MyDrive/Datasets/Research/Output/\"+filename+\".txt\", \"a\")\n",
        "\n",
        "for i in range(30):\n",
        "  sofm = algorithms.SOFM(n_inputs=cols, n_outputs=clusters, weight='sample_from_data', shuffle_data = False)\n",
        "  sofm.train(data)\n",
        "  prediction = sofm.predict(data)\n",
        "  print(prediction)\n",
        "\n",
        "  labels = get_labels_from_prediction(prediction=prediction)\n",
        "  print(labels)\n",
        "  converted_list = [str(element) for element in labels]\n",
        "  joined_string = \",\".join(converted_list)\n",
        "  # fw.write(joined_string)\n",
        "  # fw.write(\"\\n\")\n",
        "  print(i)\n",
        "\n",
        "# fw.close()"
      ],
      "execution_count": null,
      "outputs": []
    },
    {
      "cell_type": "code",
      "metadata": {
        "id": "AVYpub90Wa9D"
      },
      "source": [
        "# fo = open(\"/content/drive/MyDrive/Datasets/Research/Output/\"+filename+\".txt\", \"r\")\n",
        "# fw = open(\"/content/drive/MyDrive/Datasets/Research/Output/breast_tissue_test.csv\", 'a')"
      ],
      "execution_count": null,
      "outputs": []
    },
    {
      "cell_type": "code",
      "metadata": {
        "id": "wZpsYYDlYHBu"
      },
      "source": [
        "count = 1 \n",
        "fw.write(str(filename))\n",
        "for line in fo: \n",
        "  line = line.strip()\n",
        "  line = line.strip(\"\\n\")\n",
        "  curlabel = line.split(\",\")\n",
        "  if count > 1:\n",
        "    ARI = adjusted_rand_score(prevlabel, curlabel)\n",
        "    print(ARI)\n",
        "    fw.write(','+str(ARI))\n",
        "  \n",
        "  prevlabel = curlabel\n",
        "  count = 2\n",
        "\n",
        "fw.write(\"\\n\")\n",
        "fw.close()"
      ],
      "execution_count": null,
      "outputs": []
    }
  ]
}